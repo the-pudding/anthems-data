{
 "cells": [
  {
   "cell_type": "code",
   "execution_count": 1,
   "id": "9bcb552c",
   "metadata": {},
   "outputs": [],
   "source": [
    "import pandas as pd\n",
    "import numpy as np\n",
    "import os\n",
    "from scipy.spatial.distance import euclidean\n",
    "from fastdtw import fastdtw\n",
    "from sklearn.cluster import KMeans\n",
    "import matplotlib.pyplot as plt\n",
    "from scipy.spatial.distance import euclidean"
   ]
  },
  {
   "cell_type": "markdown",
   "id": "90ee78a9",
   "metadata": {},
   "source": [
    "Data cleaning"
   ]
  },
  {
   "cell_type": "code",
   "execution_count": 2,
   "id": "c67552f8",
   "metadata": {},
   "outputs": [],
   "source": [
    "##### Functions used throughout\n",
    "\n",
    "# Giving repeated words unique labels\n",
    "def unique_word_labels(data):\n",
    "    word_count = {}\n",
    "    last_word = None\n",
    "    unique_data = []\n",
    "\n",
    "    for index, row in data.iterrows():\n",
    "        word = row['word']\n",
    "        \n",
    "        # Check if this is a repeated word\n",
    "        if word == last_word:\n",
    "            # Use the same label as the previous occurrence if it's in a clump\n",
    "            unique_word = unique_data[-1]['word']\n",
    "        else:\n",
    "            # If it's a new occurrence or a different word\n",
    "            count = word_count.get(word, 0) + 1\n",
    "            word_count[word] = count\n",
    "\n",
    "            if count == 1:\n",
    "                unique_word = word  # First occurrence remains the same\n",
    "            else:\n",
    "                unique_word = f\"{word}-{count}\"  # Label subsequent occurrences uniquely\n",
    "\n",
    "        # Creating a new dictionary with modified word property\n",
    "        new_item = row.to_dict()\n",
    "        new_item['word'] = unique_word\n",
    "        unique_data.append(new_item)\n",
    "\n",
    "        last_word = word  # Update the last seen word\n",
    "\n",
    "    \n",
    "    return pd.DataFrame(unique_data)\n",
    "\n",
    "def get_word_data(word, words_data, pitch_data, singer_name):\n",
    "    word_notes = words_data[words_data['word'] == word]\n",
    "    start_time = word_notes['timestamp'].min()\n",
    "    end_time = word_notes.iloc[-1]['timestamp'] + word_notes.iloc[-1]['duration']\n",
    "\n",
    "    # Adjusting the timestamps relative to the word's start\n",
    "    adjusted_word_notes = word_notes.copy()\n",
    "    adjusted_word_notes['adjusted_timestamp'] = adjusted_word_notes['timestamp'] - start_time\n",
    "\n",
    "    # Filtering and adjusting pitch data\n",
    "    filtered_pitch_data = pitch_data[(pitch_data['frequency'] >= 100) & (pitch_data['timestamp'] >= start_time) & (pitch_data['timestamp'] <= end_time)].copy()\n",
    "    filtered_pitch_data['adjusted_timestamp'] = filtered_pitch_data['timestamp'] - start_time\n",
    "\n",
    "    return {\n",
    "        'word': word,\n",
    "        'note_data': adjusted_word_notes,\n",
    "        'pitch_data': filtered_pitch_data,\n",
    "        'singer': singer_name\n",
    "    }\n",
    "\n",
    "def dtw_distance(series1, series2):\n",
    "    len_s1, len_s2 = len(series1), len(series2)\n",
    "    DTW = [[float('inf') for _ in range(len_s2)] for _ in range(len_s1)]\n",
    "    DTW[0][0] = 0\n",
    "\n",
    "    for i in range(1, len_s1):\n",
    "        for j in range(1, len_s2):\n",
    "            cost = abs(series1[i] - series2[j])\n",
    "            DTW[i][j] = cost + min(DTW[i-1][j],    # Insertion\n",
    "                                   DTW[i][j-1],    # Deletion\n",
    "                                   DTW[i-1][j-1])  # Match\n",
    "\n",
    "    return DTW[len_s1 - 1][len_s2 - 1]\n",
    "\n",
    "def chaos_score(pitch_data1, pitch_data2):\n",
    "    frequency1 = pitch_data1['frequency'].values\n",
    "    frequency2 = pitch_data2['frequency'].values\n",
    "\n",
    "    distance = dtw_distance(frequency1, frequency2)\n",
    "    return distance"
   ]
  },
  {
   "cell_type": "code",
   "execution_count": 3,
   "id": "aac2ddb2",
   "metadata": {},
   "outputs": [],
   "source": [
    "# Assemble performance data\n",
    "def performance(singer):\n",
    "    return {\n",
    "        'words_data': unique_word_labels(pd.DataFrame(pd.read_csv('words/' + singer + '.csv'))),\n",
    "        'pitch_data': pd.DataFrame(pd.read_csv('pitch/' + singer + '.csv'))\n",
    "    }\n",
    "\n",
    "singers = ['jazmine', 'carrie', 'harry', 'demi', 'michelle']\n",
    "\n",
    "performances = {singer: performance(singer) for singer in singers}"
   ]
  },
  {
   "cell_type": "code",
   "execution_count": 4,
   "id": "887ecf74",
   "metadata": {},
   "outputs": [
    {
     "name": "stdout",
     "output_type": "stream",
     "text": [
      "Loaded distance matrix from file.\n",
      "[[    0.     7791.806  6317.275 ... 26655.261   568.426 32587.731]\n",
      " [ 7791.806     0.     3106.664 ... 39860.354 10856.516 45941.863]\n",
      " [ 6317.275  3106.664     0.    ... 46081.406 11378.312 73209.44 ]\n",
      " ...\n",
      " [26655.261 39860.354 46081.406 ...     0.    24178.938 21977.449]\n",
      " [  568.426 10856.516 11378.312 ... 24178.938     0.    31508.547]\n",
      " [32587.731 45941.863 73209.44  ... 21977.449 31508.547     0.   ]]\n"
     ]
    }
   ],
   "source": [
    "# Get shapes for all words in all performances\n",
    "shapes = []\n",
    "for singer, data in performances.items():\n",
    "    unique_words = set(data['words_data']['word'])\n",
    "    shapes.extend([get_word_data(word, data['words_data'], data['pitch_data'], singer) for word in unique_words])\n",
    "    \n",
    "# Create distance matrix\n",
    "distance_matrix = []\n",
    "filename = \"distance_matrix_5.npy\"\n",
    "\n",
    "# Check if the file exists\n",
    "if os.path.exists(filename):\n",
    "    # Load the distance matrix\n",
    "    distance_matrix = np.load(filename)\n",
    "    print(\"Loaded distance matrix from file.\")\n",
    "    print(distance_matrix)\n",
    "else:\n",
    "    num_shapes = len(shapes)\n",
    "    print(num_shapes)\n",
    "    distance_matrix = []\n",
    "\n",
    "    for i, shape1 in enumerate(shapes):\n",
    "        row = []\n",
    "        for j, shape2 in enumerate(shapes):\n",
    "            if i == j:\n",
    "                # Skip comparing the shape with itself and set distance to 0\n",
    "                distance = 0\n",
    "            else:\n",
    "                distance = chaos_score(shape1['pitch_data'], shape2['pitch_data'])\n",
    "            row.append(distance)\n",
    "        distance_matrix.append(row)\n",
    "\n",
    "        # Print progress\n",
    "        print(f\"Processed shape {i+1} of {num_shapes}\")\n",
    "\n",
    "    # Convert to numpy array for easy saving\n",
    "    distance_matrix = np.array(distance_matrix)\n",
    "\n",
    "    # Save the distance matrix to a file\n",
    "    np.save(filename, distance_matrix)\n",
    "    print(\"Distance matrix computation complete and saved to file.\")"
   ]
  },
  {
   "cell_type": "code",
   "execution_count": 5,
   "id": "cf67bab6",
   "metadata": {},
   "outputs": [
    {
     "data": {
      "image/png": "[encoded data removed]",
      "text/plain": [
       "<Figure size 1152x576 with 1 Axes>"
      ]
     },
     "metadata": {
      "needs_background": "light"
     },
     "output_type": "display_data"
    }
   ],
   "source": [
    "# Elbow method\n",
    "distortions = []\n",
    "K = range(1, 15)  # Range of k values to try.\n",
    "\n",
    "for k in K:\n",
    "    kmeanModel = KMeans(n_clusters=k, n_init=10)\n",
    "    kmeanModel.fit(distance_matrix)\n",
    "    distortions.append(kmeanModel.inertia_)\n",
    "\n",
    "# Plotting\n",
    "plt.figure(figsize=(16, 8))\n",
    "plt.plot(K, distortions, 'bx-')\n",
    "plt.xlabel('k')\n",
    "plt.ylabel('Distortion')\n",
    "plt.title('The Elbow Method showing the optimal k')\n",
    "plt.show()"
   ]
  },
  {
   "cell_type": "code",
   "execution_count": 6,
   "id": "209190cb",
   "metadata": {},
   "outputs": [
    {
     "ename": "ValueError",
     "evalue": "All arrays must be of the same length",
     "output_type": "error",
     "traceback": [
      "\u001b[0;31m---------------------------------------------------------------------------\u001b[0m",
      "\u001b[0;31mValueError\u001b[0m                                Traceback (most recent call last)",
      "Input \u001b[0;32mIn [6]\u001b[0m, in \u001b[0;36m<module>\u001b[0;34m\u001b[0m\n\u001b[1;32m      4\u001b[0m clusters \u001b[38;5;241m=\u001b[39m kmeans\u001b[38;5;241m.\u001b[39mfit_predict(distance_matrix)\n\u001b[1;32m      6\u001b[0m \u001b[38;5;66;03m# Show clusters\u001b[39;00m\n\u001b[0;32m----> 7\u001b[0m clustered_words \u001b[38;5;241m=\u001b[39m \u001b[43mpd\u001b[49m\u001b[38;5;241;43m.\u001b[39;49m\u001b[43mDataFrame\u001b[49m\u001b[43m(\u001b[49m\u001b[43m{\u001b[49m\n\u001b[1;32m      8\u001b[0m \u001b[43m    \u001b[49m\u001b[38;5;124;43m'\u001b[39;49m\u001b[38;5;124;43mword\u001b[39;49m\u001b[38;5;124;43m'\u001b[39;49m\u001b[43m:\u001b[49m\u001b[43m \u001b[49m\u001b[43munique_words\u001b[49m\u001b[43m,\u001b[49m\n\u001b[1;32m      9\u001b[0m \u001b[43m    \u001b[49m\u001b[38;5;124;43m'\u001b[39;49m\u001b[38;5;124;43mcluster\u001b[39;49m\u001b[38;5;124;43m'\u001b[39;49m\u001b[43m:\u001b[49m\u001b[43m \u001b[49m\u001b[43mclusters\u001b[49m\n\u001b[1;32m     10\u001b[0m \u001b[43m}\u001b[49m\u001b[43m)\u001b[49m\n\u001b[1;32m     12\u001b[0m \u001b[38;5;66;03m# Grouping clusters\u001b[39;00m\n\u001b[1;32m     13\u001b[0m grouped \u001b[38;5;241m=\u001b[39m clustered_words\u001b[38;5;241m.\u001b[39mgroupby(\u001b[38;5;124m'\u001b[39m\u001b[38;5;124mcluster\u001b[39m\u001b[38;5;124m'\u001b[39m)\n",
      "File \u001b[0;32m/usr/local/lib/python3.9/site-packages/pandas/core/frame.py:637\u001b[0m, in \u001b[0;36mDataFrame.__init__\u001b[0;34m(self, data, index, columns, dtype, copy)\u001b[0m\n\u001b[1;32m    631\u001b[0m     mgr \u001b[38;5;241m=\u001b[39m \u001b[38;5;28mself\u001b[39m\u001b[38;5;241m.\u001b[39m_init_mgr(\n\u001b[1;32m    632\u001b[0m         data, axes\u001b[38;5;241m=\u001b[39m{\u001b[38;5;124m\"\u001b[39m\u001b[38;5;124mindex\u001b[39m\u001b[38;5;124m\"\u001b[39m: index, \u001b[38;5;124m\"\u001b[39m\u001b[38;5;124mcolumns\u001b[39m\u001b[38;5;124m\"\u001b[39m: columns}, dtype\u001b[38;5;241m=\u001b[39mdtype, copy\u001b[38;5;241m=\u001b[39mcopy\n\u001b[1;32m    633\u001b[0m     )\n\u001b[1;32m    635\u001b[0m \u001b[38;5;28;01melif\u001b[39;00m \u001b[38;5;28misinstance\u001b[39m(data, \u001b[38;5;28mdict\u001b[39m):\n\u001b[1;32m    636\u001b[0m     \u001b[38;5;66;03m# GH#38939 de facto copy defaults to False only in non-dict cases\u001b[39;00m\n\u001b[0;32m--> 637\u001b[0m     mgr \u001b[38;5;241m=\u001b[39m \u001b[43mdict_to_mgr\u001b[49m\u001b[43m(\u001b[49m\u001b[43mdata\u001b[49m\u001b[43m,\u001b[49m\u001b[43m \u001b[49m\u001b[43mindex\u001b[49m\u001b[43m,\u001b[49m\u001b[43m \u001b[49m\u001b[43mcolumns\u001b[49m\u001b[43m,\u001b[49m\u001b[43m \u001b[49m\u001b[43mdtype\u001b[49m\u001b[38;5;241;43m=\u001b[39;49m\u001b[43mdtype\u001b[49m\u001b[43m,\u001b[49m\u001b[43m \u001b[49m\u001b[43mcopy\u001b[49m\u001b[38;5;241;43m=\u001b[39;49m\u001b[43mcopy\u001b[49m\u001b[43m,\u001b[49m\u001b[43m \u001b[49m\u001b[43mtyp\u001b[49m\u001b[38;5;241;43m=\u001b[39;49m\u001b[43mmanager\u001b[49m\u001b[43m)\u001b[49m\n\u001b[1;32m    638\u001b[0m \u001b[38;5;28;01melif\u001b[39;00m \u001b[38;5;28misinstance\u001b[39m(data, ma\u001b[38;5;241m.\u001b[39mMaskedArray):\n\u001b[1;32m    639\u001b[0m     \u001b[38;5;28;01mimport\u001b[39;00m \u001b[38;5;21;01mnumpy\u001b[39;00m\u001b[38;5;21;01m.\u001b[39;00m\u001b[38;5;21;01mma\u001b[39;00m\u001b[38;5;21;01m.\u001b[39;00m\u001b[38;5;21;01mmrecords\u001b[39;00m \u001b[38;5;28;01mas\u001b[39;00m \u001b[38;5;21;01mmrecords\u001b[39;00m\n",
      "File \u001b[0;32m/usr/local/lib/python3.9/site-packages/pandas/core/internals/construction.py:502\u001b[0m, in \u001b[0;36mdict_to_mgr\u001b[0;34m(data, index, columns, dtype, typ, copy)\u001b[0m\n\u001b[1;32m    494\u001b[0m     arrays \u001b[38;5;241m=\u001b[39m [\n\u001b[1;32m    495\u001b[0m         x\n\u001b[1;32m    496\u001b[0m         \u001b[38;5;28;01mif\u001b[39;00m \u001b[38;5;129;01mnot\u001b[39;00m \u001b[38;5;28mhasattr\u001b[39m(x, \u001b[38;5;124m\"\u001b[39m\u001b[38;5;124mdtype\u001b[39m\u001b[38;5;124m\"\u001b[39m) \u001b[38;5;129;01mor\u001b[39;00m \u001b[38;5;129;01mnot\u001b[39;00m \u001b[38;5;28misinstance\u001b[39m(x\u001b[38;5;241m.\u001b[39mdtype, ExtensionDtype)\n\u001b[1;32m    497\u001b[0m         \u001b[38;5;28;01melse\u001b[39;00m x\u001b[38;5;241m.\u001b[39mcopy()\n\u001b[1;32m    498\u001b[0m         \u001b[38;5;28;01mfor\u001b[39;00m x \u001b[38;5;129;01min\u001b[39;00m arrays\n\u001b[1;32m    499\u001b[0m     ]\n\u001b[1;32m    500\u001b[0m     \u001b[38;5;66;03m# TODO: can we get rid of the dt64tz special case above?\u001b[39;00m\n\u001b[0;32m--> 502\u001b[0m \u001b[38;5;28;01mreturn\u001b[39;00m \u001b[43marrays_to_mgr\u001b[49m\u001b[43m(\u001b[49m\u001b[43marrays\u001b[49m\u001b[43m,\u001b[49m\u001b[43m \u001b[49m\u001b[43mcolumns\u001b[49m\u001b[43m,\u001b[49m\u001b[43m \u001b[49m\u001b[43mindex\u001b[49m\u001b[43m,\u001b[49m\u001b[43m \u001b[49m\u001b[43mdtype\u001b[49m\u001b[38;5;241;43m=\u001b[39;49m\u001b[43mdtype\u001b[49m\u001b[43m,\u001b[49m\u001b[43m \u001b[49m\u001b[43mtyp\u001b[49m\u001b[38;5;241;43m=\u001b[39;49m\u001b[43mtyp\u001b[49m\u001b[43m,\u001b[49m\u001b[43m \u001b[49m\u001b[43mconsolidate\u001b[49m\u001b[38;5;241;43m=\u001b[39;49m\u001b[43mcopy\u001b[49m\u001b[43m)\u001b[49m\n",
      "File \u001b[0;32m/usr/local/lib/python3.9/site-packages/pandas/core/internals/construction.py:120\u001b[0m, in \u001b[0;36marrays_to_mgr\u001b[0;34m(arrays, columns, index, dtype, verify_integrity, typ, consolidate)\u001b[0m\n\u001b[1;32m    117\u001b[0m \u001b[38;5;28;01mif\u001b[39;00m verify_integrity:\n\u001b[1;32m    118\u001b[0m     \u001b[38;5;66;03m# figure out the index, if necessary\u001b[39;00m\n\u001b[1;32m    119\u001b[0m     \u001b[38;5;28;01mif\u001b[39;00m index \u001b[38;5;129;01mis\u001b[39;00m \u001b[38;5;28;01mNone\u001b[39;00m:\n\u001b[0;32m--> 120\u001b[0m         index \u001b[38;5;241m=\u001b[39m \u001b[43m_extract_index\u001b[49m\u001b[43m(\u001b[49m\u001b[43marrays\u001b[49m\u001b[43m)\u001b[49m\n\u001b[1;32m    121\u001b[0m     \u001b[38;5;28;01melse\u001b[39;00m:\n\u001b[1;32m    122\u001b[0m         index \u001b[38;5;241m=\u001b[39m ensure_index(index)\n",
      "File \u001b[0;32m/usr/local/lib/python3.9/site-packages/pandas/core/internals/construction.py:674\u001b[0m, in \u001b[0;36m_extract_index\u001b[0;34m(data)\u001b[0m\n\u001b[1;32m    672\u001b[0m lengths \u001b[38;5;241m=\u001b[39m \u001b[38;5;28mlist\u001b[39m(\u001b[38;5;28mset\u001b[39m(raw_lengths))\n\u001b[1;32m    673\u001b[0m \u001b[38;5;28;01mif\u001b[39;00m \u001b[38;5;28mlen\u001b[39m(lengths) \u001b[38;5;241m>\u001b[39m \u001b[38;5;241m1\u001b[39m:\n\u001b[0;32m--> 674\u001b[0m     \u001b[38;5;28;01mraise\u001b[39;00m \u001b[38;5;167;01mValueError\u001b[39;00m(\u001b[38;5;124m\"\u001b[39m\u001b[38;5;124mAll arrays must be of the same length\u001b[39m\u001b[38;5;124m\"\u001b[39m)\n\u001b[1;32m    676\u001b[0m \u001b[38;5;28;01mif\u001b[39;00m have_dicts:\n\u001b[1;32m    677\u001b[0m     \u001b[38;5;28;01mraise\u001b[39;00m \u001b[38;5;167;01mValueError\u001b[39;00m(\n\u001b[1;32m    678\u001b[0m         \u001b[38;5;124m\"\u001b[39m\u001b[38;5;124mMixing dicts with non-Series may lead to ambiguous ordering.\u001b[39m\u001b[38;5;124m\"\u001b[39m\n\u001b[1;32m    679\u001b[0m     )\n",
      "\u001b[0;31mValueError\u001b[0m: All arrays must be of the same length"
     ]
    }
   ],
   "source": [
    "# K-means\n",
    "k = 10\n",
    "kmeans = KMeans(n_clusters=k, n_init=10)\n",
    "clusters = kmeans.fit_predict(distance_matrix)\n",
    "\n",
    "# Show clusters\n",
    "clustered_words = pd.DataFrame({\n",
    "    'word': unique_words,\n",
    "    'cluster': clusters\n",
    "})\n",
    "\n",
    "# Grouping clusters\n",
    "grouped = clustered_words.groupby('cluster')\n",
    "\n",
    "for cluster, group in grouped:\n",
    "    print(f\"Cluster {cluster}:\")\n",
    "    words_in_cluster = group['word'].tolist()\n",
    "    print(\", \".join(words_in_cluster))\n",
    "    print()  # Adding a blank line for better readability"
   ]
  },
  {
   "cell_type": "code",
   "execution_count": null,
   "id": "d5263731",
   "metadata": {},
   "outputs": [],
   "source": []
  }
 ],
 "metadata": {
  "kernelspec": {
   "display_name": "Python 3 (ipykernel)",
   "language": "python",
   "name": "python3"
  },
  "language_info": {
   "codemirror_mode": {
    "name": "ipython",
    "version": 3
   },
   "file_extension": ".py",
   "mimetype": "text/x-python",
   "name": "python",
   "nbconvert_exporter": "python",
   "pygments_lexer": "ipython3",
   "version": "3.9.18"
  }
 },
 "nbformat": 4,
 "nbformat_minor": 5
}
